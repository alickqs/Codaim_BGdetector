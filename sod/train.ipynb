{
 "cells": [
  {
   "cell_type": "code",
   "execution_count": 2,
   "metadata": {},
   "outputs": [],
   "source": [
    "import torch\n",
    "import torch.nn as nn\n",
    "import torch.optim as optim\n",
    "import torchvision\n",
    "from torch.utils.data import random_split\n",
    "from torchvision import datasets\n",
    "from torchvision import transforms\n",
    "import numpy as np\n",
    "import pickle\n",
    "from model import ZFNet \n",
    "import pandas as pd\n",
    "import matplotlib as plt\n",
    "import seaborn as sns\n",
    "from tqdm.notebook import tqdm # позволяет делать прогресс бары, такадум с арабского означает прогресс :)"
   ]
  },
  {
   "cell_type": "code",
   "execution_count": 3,
   "metadata": {},
   "outputs": [
    {
     "name": "stdout",
     "output_type": "stream",
     "text": [
      "Epoch: 1/1, Train Loss: 0.7080339193344116, Test Loss 0.7078396118912453, Accuracy: 52.617970265029086\n",
      "[0.7080339193344116] [0.7078396118912453]\n"
     ]
    }
   ],
   "source": [
    "def train(model, train_dl, test_dl, opt, loss_func, epochs):\n",
    "    \"\"\" train model using using provided datasets, optimizer and loss function \"\"\"\n",
    "    train_loss = [0 for i in range(epochs)]\n",
    "    test_loss = [0 for i in range(epochs)]\n",
    "    scheduler = torch.optim.lr_scheduler.ReduceLROnPlateau(opt)\n",
    "    for epoch in range(epochs):\n",
    "        model.train()\n",
    "        for xb, yb in train_dl:\n",
    "            loss = loss_func(model(xb), yb)\n",
    "            train_loss[epoch] = loss.item()\n",
    "            loss.backward()\n",
    "            opt.step()\n",
    "            opt.zero_grad()\n",
    "        with torch.no_grad():\n",
    "            losses, nums = zip(*[(loss_func(model(xb),yb).item(),len(xb)) for xb, yb in test_dl])\n",
    "            test_loss[epoch] = np.sum(np.multiply(losses, nums)) / np.sum(nums)\n",
    "            correct = 0\n",
    "            total = 0\n",
    "            for data in test_dl:\n",
    "                images, labels = data\n",
    "                images, labels = images, labels\n",
    "                outputs = model(images)\n",
    "                _, predicted = torch.max(outputs.data, 1)\n",
    "                total += labels.size(0)\n",
    "                correct += (predicted == labels).sum().item()\n",
    "        print(f'Epoch: {epoch+1}/{epochs}, Train Loss: {train_loss[epoch]}, Test Loss {test_loss[epoch]}, Accuracy: {100*correct/total}')\n",
    "        scheduler.step(test_loss[epoch])\n",
    "    return train_loss, test_loss\n",
    "\n",
    "if __name__ == \"__main__\":\n",
    "    # Define transforms\n",
    "    transform = transforms.Compose([\n",
    "        transforms.ToTensor(),\n",
    "        transforms.Resize((224, 224)),\n",
    "        transforms.Normalize((0.5, 0.5, 0.5), (0.5, 0.5, 0.5))\n",
    "    ])\n",
    "    # Load training data\n",
    "    dataset = datasets.ImageFolder('/home/julia/Documents/python/sod/train_resized', transform=transform) \n",
    "    test_data, train_data = random_split(dataset,(1547, 4641), generator=torch.Generator().manual_seed(42))\n",
    "    train_dl = torch.utils.data.DataLoader(train_data, batch_size=64, shuffle=True, num_workers=4)\n",
    "    test_dl = torch.utils.data.DataLoader(test_data, batch_size=64, shuffle=True, num_workers=4)\n",
    "    # Train Model\n",
    "    epochs = 5\n",
    "    model = ZFNet()\n",
    "    loss_func = nn.CrossEntropyLoss()\n",
    "    opt = optim.Adam(model.parameters(), lr=0.0001)\n",
    "    train_loss, test_loss = train(model, train_dl, test_dl, opt, loss_func, epochs)\n",
    "    # Save Model to pkl file\n",
    "    save_path = '/home/julia/Documents/python/sod/ans/model.pkl'\n",
    "    with open(save_path, 'wb') as f:\n",
    "        pickle.dump(model, f)\n",
    "    print(train_loss, test_loss)"
   ]
  },
  {
   "cell_type": "markdown",
   "metadata": {},
   "source": [
    "(4188, 2000)   Epoch: 1/1, Train Loss: 0.7196502685546875, Test Loss 0.7007279993811446, Accuracy: 55.08595988538682"
   ]
  }
 ],
 "metadata": {
  "kernelspec": {
   "display_name": "Python 3",
   "language": "python",
   "name": "python3"
  },
  "language_info": {
   "codemirror_mode": {
    "name": "ipython",
    "version": 3
   },
   "file_extension": ".py",
   "mimetype": "text/x-python",
   "name": "python",
   "nbconvert_exporter": "python",
   "pygments_lexer": "ipython3",
   "version": "3.10.12"
  }
 },
 "nbformat": 4,
 "nbformat_minor": 2
}
